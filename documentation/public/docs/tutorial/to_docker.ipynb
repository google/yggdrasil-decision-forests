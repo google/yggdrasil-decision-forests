{
 "cells": [
  {
   "cell_type": "markdown",
   "id": "8be3dbea-be4e-420d-8b17-f83756838b73",
   "metadata": {},
   "source": [
    "# FastAPI + Docker\n",
    "[![Open in Colab](https://colab.research.google.com/assets/colab-badge.svg)](https://colab.research.google.com/github/google/yggdrasil-decision-forests/blob/main/documentation/public/docs/tutorial/to_docker.ipynb)\n"
   ]
  },
  {
   "cell_type": "markdown",
   "id": "3a42e8ef-0bd2-4313-897c-8ae05764d69b",
   "metadata": {},
   "source": [
    "## Setup"
   ]
  },
  {
   "cell_type": "code",
   "execution_count": null,
   "id": "c7c54d27-0da3-4023-840f-aa3ffc65793d",
   "metadata": {},
   "outputs": [],
   "source": [
    "pip install ydf -U"
   ]
  },
  {
   "cell_type": "code",
   "execution_count": 1,
   "id": "b21c4723-d802-4260-9c1a-5c1e48898d08",
   "metadata": {},
   "outputs": [],
   "source": [
    "import ydf\n",
    "import pandas as pd"
   ]
  },
  {
   "cell_type": "markdown",
   "id": "9e1ce294-493d-4095-8f49-162145c74864",
   "metadata": {},
   "source": [
    "## About this tutorial\n",
    "\n",
    "This tutorial shows how to train a model, package it into a Docker container with a REST API for predictions using [FastAPI](https://fastapi.tiangolo.com/), and then deploy this containerized application to a Google Cloud Endpoints for easy access and scalability."
   ]
  },
  {
   "cell_type": "markdown",
   "id": "bd103ae9-5d9d-4f4d-8cee-302ddfe5e9d0",
   "metadata": {},
   "source": [
    "## Training a model\n",
    "\n",
    "We first train a model using the \"adult\" dataset. For a comprehensive explanation of model training, evaluation, and interpretation with YDF, read the [getting started tutorial](getting_started).\n",
    "\n",
    "We load the dataset:"
   ]
  },
  {
   "cell_type": "code",
   "execution_count": 2,
   "id": "624539ba-777e-4524-a702-59ac84b1f36d",
   "metadata": {},
   "outputs": [
    {
     "data": {
      "text/html": [
       "<div>\n",
       "<style scoped>\n",
       "    .dataframe tbody tr th:only-of-type {\n",
       "        vertical-align: middle;\n",
       "    }\n",
       "\n",
       "    .dataframe tbody tr th {\n",
       "        vertical-align: top;\n",
       "    }\n",
       "\n",
       "    .dataframe thead th {\n",
       "        text-align: right;\n",
       "    }\n",
       "</style>\n",
       "<table border=\"1\" class=\"dataframe\">\n",
       "  <thead>\n",
       "    <tr style=\"text-align: right;\">\n",
       "      <th></th>\n",
       "      <th>age</th>\n",
       "      <th>workclass</th>\n",
       "      <th>fnlwgt</th>\n",
       "      <th>education</th>\n",
       "      <th>education_num</th>\n",
       "      <th>marital_status</th>\n",
       "      <th>occupation</th>\n",
       "      <th>relationship</th>\n",
       "      <th>race</th>\n",
       "      <th>sex</th>\n",
       "      <th>capital_gain</th>\n",
       "      <th>capital_loss</th>\n",
       "      <th>hours_per_week</th>\n",
       "      <th>native_country</th>\n",
       "      <th>income</th>\n",
       "    </tr>\n",
       "  </thead>\n",
       "  <tbody>\n",
       "    <tr>\n",
       "      <th>0</th>\n",
       "      <td>44</td>\n",
       "      <td>Private</td>\n",
       "      <td>228057</td>\n",
       "      <td>7th-8th</td>\n",
       "      <td>4</td>\n",
       "      <td>Married-civ-spouse</td>\n",
       "      <td>Machine-op-inspct</td>\n",
       "      <td>Wife</td>\n",
       "      <td>White</td>\n",
       "      <td>Female</td>\n",
       "      <td>0</td>\n",
       "      <td>0</td>\n",
       "      <td>40</td>\n",
       "      <td>Dominican-Republic</td>\n",
       "      <td>&lt;=50K</td>\n",
       "    </tr>\n",
       "    <tr>\n",
       "      <th>1</th>\n",
       "      <td>20</td>\n",
       "      <td>Private</td>\n",
       "      <td>299047</td>\n",
       "      <td>Some-college</td>\n",
       "      <td>10</td>\n",
       "      <td>Never-married</td>\n",
       "      <td>Other-service</td>\n",
       "      <td>Not-in-family</td>\n",
       "      <td>White</td>\n",
       "      <td>Female</td>\n",
       "      <td>0</td>\n",
       "      <td>0</td>\n",
       "      <td>20</td>\n",
       "      <td>United-States</td>\n",
       "      <td>&lt;=50K</td>\n",
       "    </tr>\n",
       "    <tr>\n",
       "      <th>2</th>\n",
       "      <td>40</td>\n",
       "      <td>Private</td>\n",
       "      <td>342164</td>\n",
       "      <td>HS-grad</td>\n",
       "      <td>9</td>\n",
       "      <td>Separated</td>\n",
       "      <td>Adm-clerical</td>\n",
       "      <td>Unmarried</td>\n",
       "      <td>White</td>\n",
       "      <td>Female</td>\n",
       "      <td>0</td>\n",
       "      <td>0</td>\n",
       "      <td>37</td>\n",
       "      <td>United-States</td>\n",
       "      <td>&lt;=50K</td>\n",
       "    </tr>\n",
       "    <tr>\n",
       "      <th>3</th>\n",
       "      <td>30</td>\n",
       "      <td>Private</td>\n",
       "      <td>361742</td>\n",
       "      <td>Some-college</td>\n",
       "      <td>10</td>\n",
       "      <td>Married-civ-spouse</td>\n",
       "      <td>Exec-managerial</td>\n",
       "      <td>Husband</td>\n",
       "      <td>White</td>\n",
       "      <td>Male</td>\n",
       "      <td>0</td>\n",
       "      <td>0</td>\n",
       "      <td>50</td>\n",
       "      <td>United-States</td>\n",
       "      <td>&lt;=50K</td>\n",
       "    </tr>\n",
       "    <tr>\n",
       "      <th>4</th>\n",
       "      <td>67</td>\n",
       "      <td>Self-emp-inc</td>\n",
       "      <td>171564</td>\n",
       "      <td>HS-grad</td>\n",
       "      <td>9</td>\n",
       "      <td>Married-civ-spouse</td>\n",
       "      <td>Prof-specialty</td>\n",
       "      <td>Wife</td>\n",
       "      <td>White</td>\n",
       "      <td>Female</td>\n",
       "      <td>20051</td>\n",
       "      <td>0</td>\n",
       "      <td>30</td>\n",
       "      <td>England</td>\n",
       "      <td>&gt;50K</td>\n",
       "    </tr>\n",
       "  </tbody>\n",
       "</table>\n",
       "</div>"
      ],
      "text/plain": [
       "   age     workclass  fnlwgt     education  education_num      marital_status  \\\n",
       "0   44       Private  228057       7th-8th              4  Married-civ-spouse   \n",
       "1   20       Private  299047  Some-college             10       Never-married   \n",
       "2   40       Private  342164       HS-grad              9           Separated   \n",
       "3   30       Private  361742  Some-college             10  Married-civ-spouse   \n",
       "4   67  Self-emp-inc  171564       HS-grad              9  Married-civ-spouse   \n",
       "\n",
       "          occupation   relationship   race     sex  capital_gain  \\\n",
       "0  Machine-op-inspct           Wife  White  Female             0   \n",
       "1      Other-service  Not-in-family  White  Female             0   \n",
       "2       Adm-clerical      Unmarried  White  Female             0   \n",
       "3    Exec-managerial        Husband  White    Male             0   \n",
       "4     Prof-specialty           Wife  White  Female         20051   \n",
       "\n",
       "   capital_loss  hours_per_week      native_country income  \n",
       "0             0              40  Dominican-Republic  <=50K  \n",
       "1             0              20       United-States  <=50K  \n",
       "2             0              37       United-States  <=50K  \n",
       "3             0              50       United-States  <=50K  \n",
       "4             0              30             England   >50K  "
      ]
     },
     "execution_count": 2,
     "metadata": {},
     "output_type": "execute_result"
    }
   ],
   "source": [
    "dataset_path = \"https://raw.githubusercontent.com/google/yggdrasil-decision-forests/main/yggdrasil_decision_forests/test_data/dataset\"\n",
    "dataset = pd.read_csv(f\"{dataset_path}/adult_train.csv\")\n",
    "dataset.head(5)"
   ]
  },
  {
   "cell_type": "markdown",
   "id": "30b89d0c-43c0-402b-af1d-f722a30fedfe",
   "metadata": {},
   "source": [
    "We train a model with default parameters:"
   ]
  },
  {
   "cell_type": "code",
   "execution_count": 3,
   "id": "a2594497-5b8c-4a4b-ac6b-7b3f315ccb5c",
   "metadata": {},
   "outputs": [
    {
     "name": "stdout",
     "output_type": "stream",
     "text": [
      "Train model on 22792 examples\n",
      "Model trained in 0:00:01.420861\n"
     ]
    }
   ],
   "source": [
    "model =  ydf.GradientBoostedTreesLearner(label=\"income\").train(dataset)"
   ]
  },
  {
   "cell_type": "markdown",
   "id": "6295ee9b-9a26-4cff-99ea-ef978ea91df6",
   "metadata": {},
   "source": [
    "We can generate predictions to make sure the model works:\n",
    "\n",
    "Note that `model.predict` takes as input a batch of examples (i.e., a list of examples). If we only have one example, we need to create a list of one value for each of the features."
   ]
  },
  {
   "cell_type": "code",
   "execution_count": 4,
   "id": "26a0c25d-a547-4fd1-b772-35c6ec142c75",
   "metadata": {},
   "outputs": [
    {
     "data": {
      "text/plain": [
       "array([0.02801839], dtype=float32)"
      ]
     },
     "execution_count": 4,
     "metadata": {},
     "output_type": "execute_result"
    }
   ],
   "source": [
    "model.predict({'age': [44],\n",
    " 'workclass': ['Private'],\n",
    " 'fnlwgt': [228057],\n",
    " 'education': ['7th-8th'],\n",
    " 'education_num': [4],\n",
    " 'marital_status': ['Married-civ-spouse'],\n",
    " 'occupation': ['Machine-op-inspct'],\n",
    " 'relationship': ['Wife'],\n",
    " 'race': ['White'],\n",
    " 'sex': ['Female'],\n",
    " 'capital_gain': [0],\n",
    " 'capital_loss': [0],\n",
    " 'hours_per_week': [40],\n",
    " 'native_country': ['Dominican-Republic']})"
   ]
  },
  {
   "cell_type": "markdown",
   "id": "4e82b07d-6fb7-49ca-9f34-5e29392d5948",
   "metadata": {},
   "source": [
    "For a binary classification model (i.e., a model that can predict one of two classes), the output is the probability of the positive class:"
   ]
  },
  {
   "cell_type": "code",
   "execution_count": 5,
   "id": "8e448a3e-246a-4d25-a681-7f1ac0e05f18",
   "metadata": {},
   "outputs": [
    {
     "data": {
      "text/plain": [
       "'>50K'"
      ]
     },
     "execution_count": 5,
     "metadata": {},
     "output_type": "execute_result"
    }
   ],
   "source": [
    "model.label_classes()[True]"
   ]
  },
  {
   "cell_type": "markdown",
   "id": "758338cf-1a98-4921-ac9f-99ebeae45076",
   "metadata": {},
   "source": [
    "## Packaging the model into a Docker\n",
    "\n",
    "`model.to_docker(path)` export the model into a Docker."
   ]
  },
  {
   "cell_type": "code",
   "execution_count": 6,
   "id": "0b971d1d-422a-4db8-93cd-538467a8fc9a",
   "metadata": {},
   "outputs": [],
   "source": [
    "model.to_docker(\"my_docker_model\")"
   ]
  },
  {
   "cell_type": "markdown",
   "id": "8ac417cf-05a1-476f-839d-7e2fec4e5f40",
   "metadata": {},
   "source": [
    "You can look at the Docker content. In some advanced case, you might want to update some of the automatically generated files."
   ]
  },
  {
   "cell_type": "code",
   "execution_count": 8,
   "id": "3cfa10e7-9c62-4618-beb5-81c68b8b7216",
   "metadata": {},
   "outputs": [
    {
     "name": "stdout",
     "output_type": "stream",
     "text": [
      "total 4\n",
      "-rw-rw-r-- 1 gbm primarygroup  288 Jul 26 13:39 deploy_in_google_cloud.sh\n",
      "-rw-rw-r-- 1 gbm primarygroup  211 Jul 26 13:39 Dockerfile\n",
      "-rw-rw-r-- 1 gbm primarygroup 1313 Jul 26 13:39 main.py\n",
      "drwxrwxr-x 1 gbm primarygroup    0 Jul 26 13:39 model\n",
      "-rw-rw-r-- 1 gbm primarygroup  360 Jul 26 13:39 readme.txt\n",
      "-rw-rw-r-- 1 gbm primarygroup   21 Jul 26 13:39 requirements.txt\n",
      "-rw-rw-r-- 1 gbm primarygroup  485 Jul 26 13:39 test_locally.sh\n"
     ]
    }
   ],
   "source": [
    "!ls -l my_docker_model"
   ]
  },
  {
   "cell_type": "markdown",
   "id": "5598333b-ac91-460f-be5c-763c617fb72c",
   "metadata": {},
   "source": [
    "The docker can be deployed and tested locally with:\n",
    "\n",
    "```shell\n",
    "docker build -t ydf_predict_image ./my_docker_model\n",
    "docker run --rm -p 8080:8080 -d ydf_predict_image\n",
    "```\n",
    "\n",
    "**Note:** For this command to run, you'll need to install [Docker](https://www.docker.com/).\n",
    "\n",
    "The `test_locally.sh` script available in the generated docker directory shows how to generate a local request.\n",
    "\n",
    "Finally, the docker can be deployed on Google Cloud with:\n",
    "\n",
    "```shell\n",
    "gcloud run deploy ydf-predict --source ./my_docker_model\n",
    "```\n",
    "\n",
    "The deployed model can be monitored with the [Google Cloud Console](https://pantheon.corp.google.com/run).\n",
    "\n",
    "**Note:** For this command to run, you'll need to install [Google Cloud CLI](https://cloud.google.com/cli) and setup a project.\n"
   ]
  }
 ],
 "metadata": {
  "kernelspec": {
   "display_name": "Python 3 (ipykernel)",
   "language": "python",
   "name": "python3"
  },
  "language_info": {
   "codemirror_mode": {
    "name": "ipython",
    "version": 3
   },
   "file_extension": ".py",
   "mimetype": "text/x-python",
   "name": "python",
   "nbconvert_exporter": "python",
   "pygments_lexer": "ipython3",
   "version": "3.11.9"
  }
 },
 "nbformat": 4,
 "nbformat_minor": 5
}
