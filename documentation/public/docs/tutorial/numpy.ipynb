{
 "cells": [
  {
   "cell_type": "markdown",
   "id": "8a267fa2-0f74-4572-9a5c-7528fca217b1",
   "metadata": {},
   "source": [
    "# Numpy arrays\n",
    "[![Open in Colab](https://colab.research.google.com/assets/colab-badge.svg)](https://colab.research.google.com/github/google/yggdrasil-decision-forests/blob/main/documentation/public/docs/tutorial/numpy.ipynb)\n"
   ]
  },
  {
   "cell_type": "markdown",
   "id": "7ec03fd3-6a9d-4d08-8368-8f1abb6c3312",
   "metadata": {},
   "source": [
    "## Setup"
   ]
  },
  {
   "cell_type": "code",
   "execution_count": null,
   "id": "1348fa0e-1172-4c5c-88d0-8b67515d9c96",
   "metadata": {},
   "outputs": [],
   "source": [
    "pip install ydf -U"
   ]
  },
  {
   "cell_type": "code",
   "execution_count": 1,
   "id": "810f00f6-5eba-4010-b49b-7ba8555629ba",
   "metadata": {},
   "outputs": [],
   "source": [
    "import ydf\n",
    "import numpy as np"
   ]
  },
  {
   "cell_type": "markdown",
   "id": "c4dad909-7f5f-43b5-8b09-8ece557a7ff0",
   "metadata": {},
   "source": [
    "## Numpy\n",
    "\n",
    "[Numpy](https://numpy.org/) arrays are great to train and use YDF models. YDF doesn't directly accept Numpy arrays, but instead dictionaries of Numpy arrays. Using a dictionary is great to your features.\n",
    "\n",
    "Let's define a dataset:"
   ]
  },
  {
   "cell_type": "code",
   "execution_count": 2,
   "id": "4744f968-0be2-42b2-92e8-75995a865bdc",
   "metadata": {},
   "outputs": [
    {
     "data": {
      "text/plain": [
       "{'f1': array([0.8408175 , 0.23268677, 0.97215838, 0.06059025, 0.43041995,\n",
       "        0.2838354 , 0.54476241, 0.68916471, 0.15604299, 0.38484593]),\n",
       " 'f2': array([0.53119829, 0.07066887, 0.367039  , 0.88090998, 0.76215773,\n",
       "        0.11381487, 0.84171988, 0.34631154, 0.04948825, 0.56829104]),\n",
       " 'l': array([0, 1, 1, 1, 1, 1, 0, 0, 1, 0])}"
      ]
     },
     "execution_count": 2,
     "metadata": {},
     "output_type": "execute_result"
    }
   ],
   "source": [
    "number_of_examples = 10\n",
    "dataset = {\n",
    "    \"f1\": np.random.uniform(size=number_of_examples),\n",
    "    \"f2\": np.random.uniform(size=number_of_examples),\n",
    "    \"l\": np.random.randint(0, 2, size=number_of_examples),\n",
    "}\n",
    "\n",
    "dataset"
   ]
  },
  {
   "cell_type": "markdown",
   "id": "9aacb5ef-87e7-44a8-8191-9a022f3e94c6",
   "metadata": {},
   "source": [
    "Then, let's train a model and generate predictions."
   ]
  },
  {
   "cell_type": "code",
   "execution_count": 3,
   "id": "2ddb66a5-7021-463b-ba86-2828603556a1",
   "metadata": {},
   "outputs": [
    {
     "name": "stdout",
     "output_type": "stream",
     "text": [
      "Train model on 10 examples\n",
      "Model trained in 0:00:00.006883\n"
     ]
    }
   ],
   "source": [
    "model = ydf.RandomForestLearner(label=\"l\").train(dataset)"
   ]
  },
  {
   "cell_type": "code",
   "execution_count": 4,
   "id": "7b4f2e7e-5d06-40c7-a369-182afdc294c6",
   "metadata": {},
   "outputs": [
    {
     "data": {
      "text/plain": [
       "array([0.37999973, 0.8599993 , 0.4866663 , 0.6733328 , 0.48999962,\n",
       "       0.836666  , 0.3866664 , 0.48999962, 0.8633326 , 0.5699996 ],\n",
       "      dtype=float32)"
      ]
     },
     "execution_count": 4,
     "metadata": {},
     "output_type": "execute_result"
    }
   ],
   "source": [
    "model.predict(dataset)"
   ]
  },
  {
   "cell_type": "markdown",
   "id": "9ddc3e5f-a728-454f-b226-2bec05e2e535",
   "metadata": {},
   "source": [
    "If your input data is a single numpy array, simply wrap it into a dictionary :).\n",
    "\n",
    "Training examples can be either one-dimensional or two-dimensional Numpy arrays. If two-dimensional arrays, the second dimension defines different features. This is similar to feeding each dimension separately."
   ]
  },
  {
   "cell_type": "code",
   "execution_count": 5,
   "id": "47572224-9321-4e45-bb75-3250a73b48a1",
   "metadata": {},
   "outputs": [
    {
     "data": {
      "text/plain": [
       "{'f1': array([[0.77831876, 0.44491803, 0.06950368],\n",
       "        [0.51402546, 0.35996753, 0.75910236],\n",
       "        [0.35404616, 0.30025651, 0.50369477],\n",
       "        [0.83403873, 0.61047313, 0.07814819],\n",
       "        [0.38385037, 0.40671211, 0.47912743],\n",
       "        [0.99550808, 0.93747089, 0.74900908],\n",
       "        [0.13106712, 0.48648687, 0.77925262],\n",
       "        [0.25118286, 0.34226331, 0.03312203],\n",
       "        [0.5772139 , 0.03045939, 0.81802417],\n",
       "        [0.27276707, 0.24643098, 0.62696742]]),\n",
       " 'f2': array([0.65184742, 0.14970149, 0.16338311, 0.01975033, 0.43429271,\n",
       "        0.1691804 , 0.14664926, 0.90239627, 0.35412598, 0.31156112]),\n",
       " 'l': array([0, 1, 1, 0, 1, 0, 0, 0, 1, 0])}"
      ]
     },
     "execution_count": 5,
     "metadata": {},
     "output_type": "execute_result"
    }
   ],
   "source": [
    "number_of_examples = 10\n",
    "\n",
    "# \"f1\" is an array of size [num_examples, 3]. YDF sees it as a feature with 20 dimensions.\n",
    "# \"f2\" is still a single dimensional feature.\n",
    "dataset = {\n",
    "    \"f1\": np.random.uniform(size=(number_of_examples, 3)),\n",
    "    \"f2\": np.random.uniform(size=number_of_examples),\n",
    "    \"l\": np.random.randint(0, 2, size=number_of_examples),\n",
    "}\n",
    "dataset"
   ]
  },
  {
   "cell_type": "code",
   "execution_count": 6,
   "id": "a44defd5-5a82-4a27-9242-27fec93ef5cd",
   "metadata": {},
   "outputs": [
    {
     "name": "stdout",
     "output_type": "stream",
     "text": [
      "Train model on 10 examples\n",
      "Model trained in 0:00:00.003045\n"
     ]
    },
    {
     "data": {
      "text/plain": [
       "array([0.27333316, 0.59999955, 0.5633329 , 0.25333318, 0.46999964,\n",
       "       0.31333312, 0.34999976, 0.38999972, 0.6199995 , 0.47999963],\n",
       "      dtype=float32)"
      ]
     },
     "execution_count": 6,
     "metadata": {},
     "output_type": "execute_result"
    }
   ],
   "source": [
    "model = ydf.RandomForestLearner(label=\"l\").train(dataset)\n",
    "model.predict(dataset)"
   ]
  }
 ],
 "metadata": {
  "kernelspec": {
   "display_name": "Python 3 (ipykernel)",
   "language": "python",
   "name": "python3"
  },
  "language_info": {
   "codemirror_mode": {
    "name": "ipython",
    "version": 3
   },
   "file_extension": ".py",
   "mimetype": "text/x-python",
   "name": "python",
   "nbconvert_exporter": "python",
   "pygments_lexer": "ipython3",
   "version": "3.11.9"
  }
 },
 "nbformat": 4,
 "nbformat_minor": 5
}
