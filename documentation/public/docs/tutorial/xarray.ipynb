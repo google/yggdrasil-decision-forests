{
 "cells": [
  {
   "cell_type": "markdown",
   "id": "1ec8b2be-6e3c-4126-b9d6-517c651d087a",
   "metadata": {},
   "source": [
    "# Xarray\n",
    "[![Open in Colab](https://colab.research.google.com/assets/colab-badge.svg)](https://colab.research.google.com/github/google/yggdrasil-decision-forests/blob/main/documentation/public/docs/tutorial/xarray.ipynb)\n"
   ]
  },
  {
   "cell_type": "markdown",
   "id": "38c09b2d-771e-443a-b4e8-b0950e047e03",
   "metadata": {},
   "source": [
    "## Setup"
   ]
  },
  {
   "cell_type": "code",
   "execution_count": null,
   "id": "c130368b-c9da-4444-b833-1969032f824b",
   "metadata": {},
   "outputs": [],
   "source": [
    "pip install ydf xarray -U"
   ]
  },
  {
   "cell_type": "code",
   "execution_count": 1,
   "id": "a627e15f-3efe-4c7b-ab59-0d051654949b",
   "metadata": {},
   "outputs": [],
   "source": [
    "import ydf\n",
    "import xarray as xr"
   ]
  },
  {
   "cell_type": "markdown",
   "id": "98a27e43-4355-4019-b254-313e296b0c53",
   "metadata": {},
   "source": [
    "## Xarrays\n",
    "\n",
    "[Xarray](https://docs.xarray.dev/) is a great way to train and use YDF models. YDF can consume Xarrays directly for all its operations.\n",
    "\n",
    "Let's define a Xarray dataset:"
   ]
  },
  {
   "cell_type": "code",
   "execution_count": 2,
   "id": "aa4d0ef5-5c6f-4860-bedd-da0db7d37845",
   "metadata": {},
   "outputs": [],
   "source": [
    "dataset = xr.Dataset({\n",
    "    \"feature_1\": (\"example\", [0.1, 0.2, 0.3, 0.4]),\n",
    "    \"feature_2\": (\"example\", [\"X\", \"X\", \"Y\", \"Y\"]),\n",
    "    \"feature_3\": ((\"example\", \"pixel\"), [[1, 2], [3, 4], [5, 6], [7, 8]]),\n",
    "    \"label\": (\"example\", [\"A\", \"B\", \"A\", \"B\"]),\n",
    "})"
   ]
  },
  {
   "cell_type": "markdown",
   "id": "44cb9af8-76a8-44f5-b5d1-3541f61e5ec1",
   "metadata": {},
   "source": [
    "This dataset contains 4 examples. `feature1` is a single-dimensional numerical feature. `feature_2` is a categorical feature. `feature_3` is a multi-dimensional feature. Finally, `label` is the label. "
   ]
  },
  {
   "cell_type": "markdown",
   "id": "0b08c6d2-c9c4-4dff-a15f-f66b97a8e104",
   "metadata": {},
   "source": [
    "We can then train a model on this (very simple) dataset."
   ]
  },
  {
   "cell_type": "code",
   "execution_count": 4,
   "id": "7c7926ec-ee1d-4955-9f44-f765a8088708",
   "metadata": {},
   "outputs": [
    {
     "name": "stdout",
     "output_type": "stream",
     "text": [
      "Train model on 4 examples\n",
      "Model trained in 0:00:00.006497\n"
     ]
    }
   ],
   "source": [
    "model = ydf.RandomForestLearner(label=\"label\").train(dataset)"
   ]
  },
  {
   "cell_type": "markdown",
   "id": "8743eb4a-13da-4261-b2f2-262a71508ee0",
   "metadata": {},
   "source": [
    "We can make predictions with the model."
   ]
  },
  {
   "cell_type": "code",
   "execution_count": 5,
   "id": "ed920dbf-4f29-48c2-a336-bcb0ac96b75b",
   "metadata": {},
   "outputs": [
    {
     "data": {
      "text/plain": [
       "array([0.2999998, 0.2999998, 0.2999998, 0.2999998], dtype=float32)"
      ]
     },
     "execution_count": 5,
     "metadata": {},
     "output_type": "execute_result"
    }
   ],
   "source": [
    "model.predict(dataset)"
   ]
  }
 ],
 "metadata": {
  "kernelspec": {
   "display_name": "Python 3 (ipykernel)",
   "language": "python",
   "name": "python3"
  },
  "language_info": {
   "codemirror_mode": {
    "name": "ipython",
    "version": 3
   },
   "file_extension": ".py",
   "mimetype": "text/x-python",
   "name": "python",
   "nbconvert_exporter": "python",
   "pygments_lexer": "ipython3",
   "version": "3.11.9"
  }
 },
 "nbformat": 4,
 "nbformat_minor": 5
}
