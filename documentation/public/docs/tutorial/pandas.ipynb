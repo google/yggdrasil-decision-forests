{
 "cells": [
  {
   "cell_type": "markdown",
   "metadata": {},
   "source": [
    "# Pandas Dataframe\n",
    "[![Open in Colab](https://colab.research.google.com/assets/colab-badge.svg)](https://colab.research.google.com/github/google/yggdrasil-decision-forests/blob/main/documentation/public/docs/tutorial/pandas.ipynb)\n"
   ]
  },
  {
   "cell_type": "markdown",
   "metadata": {},
   "source": [
    "## Setup"
   ]
  },
  {
   "cell_type": "code",
   "execution_count": null,
   "metadata": {},
   "outputs": [],
   "source": [
    "pip install ydf pandas -U"
   ]
  },
  {
   "cell_type": "markdown",
   "metadata": {},
   "source": [
    "## Pandas\n",
    "\n",
    "YDF can train directly on [Pandas](https://pandas.pydata.org/) dataframes. YDF tries to infer column semantics automatically. For more fine-grained control, YDF offers advanced options for specifying column semantics."
   ]
  },
  {
   "cell_type": "code",
   "execution_count": 8,
   "metadata": {},
   "outputs": [
    {
     "data": {
      "text/html": [
       "<div>\n",
       "<style scoped>\n",
       "    .dataframe tbody tr th:only-of-type {\n",
       "        vertical-align: middle;\n",
       "    }\n",
       "\n",
       "    .dataframe tbody tr th {\n",
       "        vertical-align: top;\n",
       "    }\n",
       "\n",
       "    .dataframe thead th {\n",
       "        text-align: right;\n",
       "    }\n",
       "</style>\n",
       "<table border=\"1\" class=\"dataframe\">\n",
       "  <thead>\n",
       "    <tr style=\"text-align: right;\">\n",
       "      <th></th>\n",
       "      <th>feature_1</th>\n",
       "      <th>feature_2</th>\n",
       "      <th>feature_3</th>\n",
       "      <th>label</th>\n",
       "    </tr>\n",
       "  </thead>\n",
       "  <tbody>\n",
       "    <tr>\n",
       "      <th>0</th>\n",
       "      <td>1</td>\n",
       "      <td>X</td>\n",
       "      <td>True</td>\n",
       "      <td>True</td>\n",
       "    </tr>\n",
       "    <tr>\n",
       "      <th>1</th>\n",
       "      <td>2</td>\n",
       "      <td>X</td>\n",
       "      <td>False</td>\n",
       "      <td>True</td>\n",
       "    </tr>\n",
       "    <tr>\n",
       "      <th>2</th>\n",
       "      <td>3</td>\n",
       "      <td>Y</td>\n",
       "      <td>True</td>\n",
       "      <td>False</td>\n",
       "    </tr>\n",
       "    <tr>\n",
       "      <th>3</th>\n",
       "      <td>1</td>\n",
       "      <td>Y</td>\n",
       "      <td>False</td>\n",
       "      <td>False</td>\n",
       "    </tr>\n",
       "    <tr>\n",
       "      <th>4</th>\n",
       "      <td>1</td>\n",
       "      <td>X</td>\n",
       "      <td>True</td>\n",
       "      <td>True</td>\n",
       "    </tr>\n",
       "  </tbody>\n",
       "</table>\n",
       "</div>"
      ],
      "text/plain": [
       "   feature_1 feature_2  feature_3  label\n",
       "0          1         X       True   True\n",
       "1          2         X      False   True\n",
       "2          3         Y       True  False\n",
       "3          1         Y      False  False\n",
       "4          1         X       True   True"
      ]
     },
     "execution_count": 8,
     "metadata": {},
     "output_type": "execute_result"
    }
   ],
   "source": [
    "import ydf\n",
    "import pandas as pd\n",
    "import numpy as np\n",
    "\n",
    "# Create a small dataframe with different column types.\n",
    "df = pd.DataFrame(\n",
    "    {\"feature_1\": [1, 2, 3, 1] * 20, # A numerical feature\n",
    "     \"feature_2\": [\"X\", \"X\", \"Y\", \"Y\"] * 20, # A categorical feature\n",
    "     \"feature_3\": [True, False, True, False ] * 20, # A boolean feature\n",
    "     \"label\": [True, True, False, False ] * 20, # The labels\n",
    "})\n",
    "df.head()"
   ]
  },
  {
   "cell_type": "markdown",
   "metadata": {},
   "source": [
    "We can directly train a model on this dataframe."
   ]
  },
  {
   "cell_type": "code",
   "execution_count": 4,
   "metadata": {},
   "outputs": [
    {
     "name": "stdout",
     "output_type": "stream",
     "text": [
      "Train model on 80 examples\n",
      "Model trained in 0:00:00.003959\n"
     ]
    }
   ],
   "source": [
    "# Train a model.\n",
    "model = ydf.RandomForestLearner(label=\"label\").train(df)"
   ]
  },
  {
   "cell_type": "code",
   "execution_count": 5,
   "metadata": {},
   "outputs": [
    {
     "data": {
      "text/html": [
       "\n",
       "<style>\n",
       "\n",
       ".tab_block .header {\n",
       "    flex-direction: row;\n",
       "    display: flex;\n",
       "}\n",
       "\n",
       ".tab_block .header .tab {\n",
       "    cursor: pointer;\n",
       "    background-color: #F6F5F5;\n",
       "    text-decoration: none;\n",
       "    text-align: center;\n",
       "    padding: 4px 12px;\n",
       "    color: black;\n",
       "}\n",
       "\n",
       ".tab_block .header .tab.selected {\n",
       "    border-bottom: 2px solid #2F80ED;\n",
       "}\n",
       "\n",
       ".tab_block .header .tab:hover {\n",
       "    text-decoration: none;\n",
       "    background-color: #DCDCDC;\n",
       "}\n",
       "\n",
       ".tab_block .body .tab_content {\n",
       "    display: none;\n",
       "    padding: 5px;\n",
       "}\n",
       "\n",
       ".tab_block .body .tab_content.selected {\n",
       "    display: block;\n",
       "}\n",
       "\n",
       ".ydf_pre {\n",
       "    font-size: medium;\n",
       "}\n",
       "\n",
       "\n",
       "\n",
       ".variable_importance {\n",
       "}\n",
       "\n",
       ".variable_importance select {\n",
       "}\n",
       "\n",
       ".variable_importance .content {\n",
       "  display: none;\n",
       "}\n",
       "\n",
       ".variable_importance .content.selected {\n",
       "  display: block;\n",
       "}\n",
       "\n",
       ".ydf_tuning_table {\n",
       "  border-collapse: collapse;\n",
       "  border: 1px solid lightgray;\n",
       "}\n",
       "\n",
       ".ydf_tuning_table th {\n",
       "  background-color: #ededed;\n",
       "  font-weight: bold;\n",
       "  text-align: left;\n",
       "  padding: 3px 4px;\n",
       "  border: 1px solid lightgray;\n",
       "}\n",
       "\n",
       ".ydf_tuning_table td {\n",
       "  text-align: right;\n",
       "  padding: 3px 4px;\n",
       "  border: 1px solid lightgray;\n",
       "}\n",
       "\n",
       ".ydf_tuning_table .best {\n",
       "  background-color: khaki;\n",
       "}\n",
       "\n",
       "</style>\n",
       "\n",
       "<script>\n",
       "\n",
       "function ydfShowTab(block_id, item) {\n",
       "    const block = document.getElementById(block_id);\n",
       "    \n",
       "    \n",
       "    console.log(\"HIDE first of:\",block.getElementsByClassName(\"tab selected\"));\n",
       "    console.log(\"HIDE first of:\",block.getElementsByClassName(\"tab_content selected\"));\n",
       "    \n",
       "    block.getElementsByClassName(\"tab selected\")[0].classList.remove(\"selected\");\n",
       "    block.getElementsByClassName(\"tab_content selected\")[0].classList.remove(\"selected\");\n",
       "    document.getElementById(block_id + \"_\" + item).classList.add(\"selected\");\n",
       "    document.getElementById(block_id + \"_body_\" + item).classList.add(\"selected\");\n",
       "}\n",
       "  \n",
       "\n",
       "function ydfShowVariableImportance(block_id) {\n",
       "    const block = document.getElementById(block_id);\n",
       "    const item = block.getElementsByTagName(\"select\")[0].value;\n",
       "    block.getElementsByClassName(\"content selected\")[0].classList.remove(\"selected\");\n",
       "    document.getElementById(block_id + \"_body_\" + item).classList.add(\"selected\");\n",
       "}\n",
       "\n",
       "</script>\n",
       "  <div class=\"tab_block\" id=\"ab4b-607b-563a-15d6\"><div class=\"header\"><a id=\"ab4b-607b-563a-15d6_model\" class=\"tab selected\" onclick=\"ydfShowTab('ab4b-607b-563a-15d6', 'model')\">Model</a><a id=\"ab4b-607b-563a-15d6_dataspec\" class=\"tab\" onclick=\"ydfShowTab('ab4b-607b-563a-15d6', 'dataspec')\">Dataspec</a><a id=\"ab4b-607b-563a-15d6_training\" class=\"tab\" onclick=\"ydfShowTab('ab4b-607b-563a-15d6', 'training')\">Training</a><a id=\"ab4b-607b-563a-15d6_variable_importance\" class=\"tab\" onclick=\"ydfShowTab('ab4b-607b-563a-15d6', 'variable_importance')\">Variable importances</a><a id=\"ab4b-607b-563a-15d6_structure\" class=\"tab\" onclick=\"ydfShowTab('ab4b-607b-563a-15d6', 'structure')\">Structure</a></div><div class=\"body\"><div id=\"ab4b-607b-563a-15d6_body_model\" class=\"tab_content selected\"><b>Name</b> : RANDOM_FOREST<br><b>Task</b> : CLASSIFICATION<br><b>Label</b> : label<br><b>Features (3)</b> : feature_1 feature_2 feature_3<br><b>Weights</b> : None<br><b>Trained with tuner</b> : No<br><b>Model size</b> : 257 kB<br></div><div id=\"ab4b-607b-563a-15d6_body_dataspec\" class=\"tab_content\"><pre class=\"ydf_pre\">Number of records: 80\n",
       "Number of columns: 4\n",
       "\n",
       "Number of columns by type:\n",
       "\tCATEGORICAL: 2 (50%)\n",
       "\tBOOLEAN: 1 (25%)\n",
       "\tNUMERICAL: 1 (25%)\n",
       "\n",
       "Columns:\n",
       "\n",
       "CATEGORICAL: 2 (50%)\n",
       "\t0: &quot;label&quot; CATEGORICAL has-dict vocab-size:3 zero-ood-items most-frequent:&quot;false&quot; 40 (50%) dtype:DTYPE_BOOL\n",
       "\t2: &quot;feature_2&quot; CATEGORICAL has-dict vocab-size:3 zero-ood-items most-frequent:&quot;X&quot; 40 (50%) dtype:DTYPE_BYTES\n",
       "\n",
       "BOOLEAN: 1 (25%)\n",
       "\t3: &quot;feature_3&quot; BOOLEAN true_count:40 false_count:40 dtype:DTYPE_BOOL\n",
       "\n",
       "NUMERICAL: 1 (25%)\n",
       "\t1: &quot;feature_1&quot; NUMERICAL mean:1.75 min:1 max:3 sd:0.829156 dtype:DTYPE_FLOAT64\n",
       "\n",
       "Terminology:\n",
       "\tnas: Number of non-available (i.e. missing) values.\n",
       "\tood: Out of dictionary.\n",
       "\tmanually-defined: Attribute whose type is manually defined by the user, i.e., the type was not automatically inferred.\n",
       "\ttokenized: The attribute value is obtained through tokenization.\n",
       "\thas-dict: The attribute is attached to a string dictionary e.g. a categorical attribute stored as a string.\n",
       "\tvocab-size: Number of unique values.\n",
       "</pre></div><div id=\"ab4b-607b-563a-15d6_body_training\" class=\"tab_content\"><p>The following evaluation is computed on the validation or out-of-bag dataset.</p><pre class=\"ydf_pre\">Number of predictions (without weights): 80\n",
       "Number of predictions (with weights): 80\n",
       "Task: CLASSIFICATION\n",
       "Label: label\n",
       "\n",
       "Accuracy: 1  CI95[W][0.963246 1]\n",
       "LogLoss: : 0\n",
       "ErrorRate: : 0\n",
       "\n",
       "Default Accuracy: : 0.5\n",
       "Default LogLoss: : 0.693147\n",
       "Default ErrorRate: : 0.5\n",
       "\n",
       "Confusion Table:\n",
       "truth\\prediction\n",
       "       false  true\n",
       "false     40     0\n",
       " true      0    40\n",
       "Total: 80\n",
       "\n",
       "</pre><div style='display: grid; gap: 0px; grid-auto-columns: min-content;'><div style='grid-row:1 / span 1; grid-column:1 / span 1;'><script src='https://www.gstatic.com/external_hosted/plotly/plotly.min.js'></script>\n",
       "<div id=\"chart_ab4b_607b_563a_15d6self_eval_item0\" style=\"display: inline-block;\" ></div>\n",
       "<script>\n",
       "  Plotly.newPlot(\n",
       "    'chart_ab4b_607b_563a_15d6self_eval_item0',\n",
       "    [{\n",
       "x: [1,11,21,31,41,52,62,72,82,92,102,112,123,133,143,153,164,174,184,194,204,214,224,234,244,254,264,274,287,297,300],\n",
       "y: [1,1,1,1,1,1,1,1,1,1,1,1,1,1,1,1,1,1,1,1,1,1,1,1,1,1,1,1,1,1,1],\n",
       "type: 'scatter',\n",
       "mode: 'lines',\n",
       "line: {\n",
       "  dash: 'solid',\n",
       "  width: 1\n",
       "},\n",
       "},\n",
       "],\n",
       "    {\n",
       "      width: 600,\n",
       "      height: 400,\n",
       "      title: '',\n",
       "      showlegend: true,\n",
       "      xaxis: {\n",
       "        ticks: 'outside',\n",
       "        showgrid: true,\n",
       "        zeroline: false,\n",
       "        showline: true,\n",
       "        title: 'num trees',\n",
       "        },\n",
       "      font: {\n",
       "        size: 10,\n",
       "        },\n",
       "      yaxis: {\n",
       "        ticks: 'outside',\n",
       "        showgrid: true,\n",
       "        zeroline: false,\n",
       "        showline: true,\n",
       "        title: 'accuracy',\n",
       "        },\n",
       "      margin: {\n",
       "        l: 50,\n",
       "        r: 50,\n",
       "        b: 50,\n",
       "        t: 50,\n",
       "      },\n",
       "    },\n",
       "    {\n",
       "      modeBarButtonsToRemove: ['sendDataToCloud'],\n",
       "      displaylogo: false,displayModeBar: false,\n",
       "    }\n",
       "  );\n",
       "</script>\n",
       "</div></div></div><div id=\"ab4b-607b-563a-15d6_body_variable_importance\" class=\"tab_content\"><p><a target=\"_blank\" href=\"https://ydf.readthedocs.io/en/latest/cli_user_manual#variable-importances\">Variable importances</a> measure the importance of an input feature for a model.</p><div id=\"ab4b-607b-563a-15d6_vi\" class=\"variable_importance\"><select onchange=\"ydfShowVariableImportance('ab4b-607b-563a-15d6_vi')\"><option value=\"INV_MEAN_MIN_DEPTH\">INV_MEAN_MIN_DEPTH</option><option value=\"NUM_AS_ROOT\">NUM_AS_ROOT</option><option value=\"NUM_NODES\">NUM_NODES</option><option value=\"SUM_SCORE\">SUM_SCORE</option></select><div id=\"ab4b-607b-563a-15d6_vi_body_INV_MEAN_MIN_DEPTH\" class=\"content selected\"><pre class=\"ydf_pre\">    1. &quot;feature_2&quot;  1.000000 \n",
       "</pre></div><div id=\"ab4b-607b-563a-15d6_vi_body_NUM_AS_ROOT\" class=\"content\"><pre class=\"ydf_pre\">    1. &quot;feature_2&quot; 300.000000 \n",
       "</pre></div><div id=\"ab4b-607b-563a-15d6_vi_body_NUM_NODES\" class=\"content\"><pre class=\"ydf_pre\">    1. &quot;feature_2&quot; 300.000000 \n",
       "</pre></div><div id=\"ab4b-607b-563a-15d6_vi_body_SUM_SCORE\" class=\"content\"><pre class=\"ydf_pre\">    1. &quot;feature_2&quot; 16479.940276 \n",
       "</pre></div></div><p>Those variable importances are computed during training. More, and possibly more informative, variable importances are available when analyzing a model on a test dataset.</p></div><div id=\"ab4b-607b-563a-15d6_body_structure\" class=\"tab_content\"><b>Num trees</b> : 300<br><p>Only printing the first tree.</p><pre class=\"ydf_pre\">Tree #0:\n",
       "    &quot;feature_2&quot; is in [BITMAP] {X} [s:0.692835 n:80 np:39 miss:0] ; val:&quot;false&quot; prob:[0.5125, 0.4875]\n",
       "        ├─(pos)─ val:&quot;true&quot; prob:[0, 1]\n",
       "        └─(neg)─ val:&quot;false&quot; prob:[1, 0]\n",
       "</pre></div></div></div>"
      ],
      "text/plain": [
       "<ydf.utils.html.HtmlNotebookDisplay at 0x7ff0a42184d0>"
      ]
     },
     "execution_count": 5,
     "metadata": {},
     "output_type": "execute_result"
    }
   ],
   "source": [
    "model.describe()"
   ]
  },
  {
   "cell_type": "markdown",
   "metadata": {},
   "source": [
    "## Train a model on a subset of features\n",
    "\n",
    "By default, all the available columns are used by the model.\n",
    "Instead, you can restrict YDF to only use some of the features.\n",
    "\n",
    "Train a model on `feature_1` and `feature_2` only."
   ]
  },
  {
   "cell_type": "code",
   "execution_count": 7,
   "metadata": {},
   "outputs": [
    {
     "name": "stdout",
     "output_type": "stream",
     "text": [
      "Train model on 80 examples\n",
      "Model trained in 0:00:00.003908\n",
      "Model input features: ['feature_1', 'feature_2']\n"
     ]
    }
   ],
   "source": [
    "model = ydf.RandomForestLearner(\n",
    "    label=\"label\",\n",
    "    features=[\"feature_1\", \"feature_2\"]\n",
    ").train(df)\n",
    "\n",
    "print(\"Model input features:\", model.input_feature_names())"
   ]
  },
  {
   "cell_type": "markdown",
   "metadata": {},
   "source": [
    "## Override the feature semantics\n",
    "\n",
    "To consume a feature, the model needs to know how to interpret this feature. This is called the feature \"semantic\".\n",
    "YDF support four types of feature semantics:\n",
    "\n",
    "- **Numerical**: For quantities or measures.\n",
    "- **Categorical**: For categories or enums.\n",
    "- **Boolean**: A special type of categorical with only two categories True and False.\n",
    "- **Categorical-set**: For sets of categories, tags, or bag of words.\n",
    "\n",
    "YDF automatically determine the semantic of a feature according to its representation. For example, float and int alues are automatically detected a numerical.\n",
    "\n",
    "For example, here are the semantics of the model trained above:"
   ]
  },
  {
   "cell_type": "code",
   "execution_count": 9,
   "metadata": {},
   "outputs": [
    {
     "data": {
      "text/plain": [
       "[InputFeature(name='feature_1', semantic=<Semantic.NUMERICAL: 1>, column_idx=0),\n",
       " InputFeature(name='feature_2', semantic=<Semantic.CATEGORICAL: 2>, column_idx=1)]"
      ]
     },
     "execution_count": 9,
     "metadata": {},
     "output_type": "execute_result"
    }
   ],
   "source": [
    "model.input_features()"
   ]
  },
  {
   "cell_type": "markdown",
   "metadata": {},
   "source": [
    "In some cases, it is interresting to force a specific semantic. For instance, if an enum-value is represented with integers, it is important to force the feature as categorical:"
   ]
  },
  {
   "cell_type": "code",
   "execution_count": 11,
   "metadata": {},
   "outputs": [
    {
     "name": "stdout",
     "output_type": "stream",
     "text": [
      "Train model on 80 examples\n",
      "Model trained in 0:00:00.004236\n"
     ]
    },
    {
     "data": {
      "text/plain": [
       "[InputFeature(name='feature_1', semantic=<Semantic.CATEGORICAL: 2>, column_idx=0),\n",
       " InputFeature(name='feature_2', semantic=<Semantic.CATEGORICAL: 2>, column_idx=2),\n",
       " InputFeature(name='feature_3', semantic=<Semantic.BOOLEAN: 5>, column_idx=3)]"
      ]
     },
     "execution_count": 11,
     "metadata": {},
     "output_type": "execute_result"
    }
   ],
   "source": [
    "model = ydf.RandomForestLearner(\n",
    "    label=\"label\",\n",
    "    features=[ydf.Feature(\"feature_1\", ydf.Semantic.CATEGORICAL)],\n",
    "    include_all_columns=True  # Use all the features; not just the ones in \"features\".\n",
    ").train(df)\n",
    "\n",
    "model.input_features()"
   ]
  }
 ],
 "metadata": {
  "colab": {
   "private_outputs": true
  },
  "kernelspec": {
   "display_name": "Python 3 (ipykernel)",
   "language": "python",
   "name": "python3"
  },
  "language_info": {
   "codemirror_mode": {
    "name": "ipython",
    "version": 3
   },
   "file_extension": ".py",
   "mimetype": "text/x-python",
   "name": "python",
   "nbconvert_exporter": "python",
   "pygments_lexer": "ipython3",
   "version": "3.11.9"
  }
 },
 "nbformat": 4,
 "nbformat_minor": 4
}
