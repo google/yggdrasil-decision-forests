{
  "cells": [
    {
      "cell_type": "markdown",
      "metadata": {},
      "source": [
        "# LogBook\n",
        "\n",
        "[![Open in Colab](https://colab.research.google.com/assets/colab-badge.svg)](https://colab.research.google.com/github/google/yggdrasil-decision-forests/blob/main/documentation/public/docs/tutorial/log_book.ipynb)\n",
        "\n",
        "The **Log Book** is a utility for tracking and analyzing ML experiments.\n",
        "\n",
        "**Note:** While useful for ML (including YDF), it's not specific to YDF or ML and suits various experiments.\n",
        "\n",
        "With the Log Book, you can:\n",
        "\n",
        "- **Test** if an experiment (identified by a JSON-serializable Python dictionary key) already exists.\n",
        "\n",
        "- **Log** an experiment with its key and a result (also a JSON-serializable Python dictionary). Records are immediately available to all connected instances.\n",
        "\n",
        "- **Export** experiment to a Pandas DataFrame for analysis and plotting.\n",
        "\n",
        "**Note:** YDF hyper-parameters and evaluations are dictionaries, simplifying logging.\n",
        "\n",
        "The Log Book supports defining default values for parameters. This is useful when adding new parameters to experiments, allowing consistent comparison with older experiments lacking that explicit parameter.\n",
        "\n",
        "The Log Book is powered by a SQLite database that allows multiple programs or users to access the same logbook simultaneously. For instance, a training script can write to it while you monitor results in a Colab.\n",
        "\n",
        "This notebook first shows the supported operations using toy data. Then, it shows how to apply these operations to test and evaluate various ML parameters, such as hyper-parameters and feature processing settings. Note that for classical hyper-parameter tuning (i.e., finding the learner hyper-parameters that maximize the quality of a model), the hyperparameter tuner tool is more focused and efficient. \n"
      ]
    },
    {
      "cell_type": "code",
      "execution_count": null,
      "metadata": {},
      "outputs": [],
      "source": [
        "!pip install ydf tqdm -q -U"
      ]
    },
    {
      "cell_type": "code",
      "execution_count": 10,
      "metadata": {},
      "outputs": [],
      "source": [
        "import matplotlib.pyplot as plt\n",
        "import numpy as np\n",
        "import pandas as pd\n",
        "from tqdm import tqdm\n",
        "import ydf"
      ]
    },
    {
      "cell_type": "markdown",
      "metadata": {},
      "source": [
        "## Toy data\n",
        "\n",
        "Let's create a toy log book.\n",
        "\n",
        "**Note:** If you use Google Colab, local files are removed automatically after some time of inactivity. Make sure to save the log book file."
      ]
    },
    {
      "cell_type": "code",
      "execution_count": 11,
      "metadata": {},
      "outputs": [
        {
          "name": "stdout",
          "output_type": "stream",
          "text": [
            "Found 0 experiments\n"
          ]
        }
      ],
      "source": [
        "# Create / load an existing logbook\n",
        "logbook = ydf.util.LogBook(directory=\"my_logbook_1\")"
      ]
    },
    {
      "cell_type": "markdown",
      "metadata": {},
      "source": [
        "Check for the existing of an expriment."
      ]
    },
    {
      "cell_type": "code",
      "execution_count": 12,
      "metadata": {},
      "outputs": [
        {
          "data": {
            "text/plain": [
              "False"
            ]
          },
          "execution_count": 12,
          "metadata": {},
          "output_type": "execute_result"
        }
      ],
      "source": [
        "# Define an experiment key. An experiment key is simply an arbitrary dictionary\n",
        "experiment_1 = {\"param1\": 1, \"param2\": \"hello\"}\n",
        "# Check if the experiment already exists in the logbook\n",
        "logbook.exist(experiment_1)"
      ]
    },
    {
      "cell_type": "markdown",
      "metadata": {},
      "source": [
        "As expected, the experiment does not exist."
      ]
    },
    {
      "cell_type": "code",
      "execution_count": 13,
      "metadata": {},
      "outputs": [],
      "source": [
        "# Create the experiment\n",
        "logbook.add(\n",
        "    key={\"param1\": 1, \"param2\": \"hello\"},\n",
        "    result={\"result1\": 1, \"result2\": [1, 2, 3]},\n",
        ")"
      ]
    },
    {
      "cell_type": "code",
      "execution_count": 14,
      "metadata": {},
      "outputs": [
        {
          "data": {
            "text/plain": [
              "True"
            ]
          },
          "execution_count": 14,
          "metadata": {},
          "output_type": "execute_result"
        }
      ],
      "source": [
        "# Check that the experiment now exists.\n",
        "logbook.exist({\"param1\": 1, \"param2\": \"hello\"})"
      ]
    },
    {
      "cell_type": "code",
      "execution_count": 15,
      "metadata": {},
      "outputs": [
        {
          "data": {
            "text/html": [
              "\u003cdiv\u003e\n",
              "\u003cstyle scoped\u003e\n",
              "    .dataframe tbody tr th:only-of-type {\n",
              "        vertical-align: middle;\n",
              "    }\n",
              "\n",
              "    .dataframe tbody tr th {\n",
              "        vertical-align: top;\n",
              "    }\n",
              "\n",
              "    .dataframe thead th {\n",
              "        text-align: right;\n",
              "    }\n",
              "\u003c/style\u003e\n",
              "\u003ctable border=\"1\" class=\"dataframe\"\u003e\n",
              "  \u003cthead\u003e\n",
              "    \u003ctr style=\"text-align: right;\"\u003e\n",
              "      \u003cth\u003e\u003c/th\u003e\n",
              "      \u003cth\u003eid\u003c/th\u003e\n",
              "      \u003cth\u003etimestamp\u003c/th\u003e\n",
              "      \u003cth\u003eparam1\u003c/th\u003e\n",
              "      \u003cth\u003eparam2\u003c/th\u003e\n",
              "      \u003cth\u003eresult1\u003c/th\u003e\n",
              "      \u003cth\u003eresult2\u003c/th\u003e\n",
              "    \u003c/tr\u003e\n",
              "  \u003c/thead\u003e\n",
              "  \u003ctbody\u003e\n",
              "    \u003ctr\u003e\n",
              "      \u003cth\u003e0\u003c/th\u003e\n",
              "      \u003ctd\u003e1\u003c/td\u003e\n",
              "      \u003ctd\u003e2025-05-16 14:07:34\u003c/td\u003e\n",
              "      \u003ctd\u003e1\u003c/td\u003e\n",
              "      \u003ctd\u003ehello\u003c/td\u003e\n",
              "      \u003ctd\u003e1\u003c/td\u003e\n",
              "      \u003ctd\u003e[1, 2, 3]\u003c/td\u003e\n",
              "    \u003c/tr\u003e\n",
              "  \u003c/tbody\u003e\n",
              "\u003c/table\u003e\n",
              "\u003c/div\u003e"
            ],
            "text/plain": [
              "   id            timestamp  param1 param2  result1    result2\n",
              "0   1  2025-05-16 14:07:34       1  hello        1  [1, 2, 3]"
            ]
          },
          "execution_count": 15,
          "metadata": {},
          "output_type": "execute_result"
        }
      ],
      "source": [
        "# List all the experiments.\n",
        "logbook.to_dataframe()"
      ]
    },
    {
      "cell_type": "markdown",
      "metadata": {},
      "source": [
        "**Note:** Experiment keys are not unique. If a user adds multiple experiments with the same key, they will appear at different rows with a different \"id\" and \"timestamps\".\n",
        "\n",
        "Let's add more experiments (with different keys) to show how queries and plotting works:"
      ]
    },
    {
      "cell_type": "code",
      "execution_count": 16,
      "metadata": {},
      "outputs": [
        {
          "data": {
            "text/html": [
              "\u003cdiv\u003e\n",
              "\u003cstyle scoped\u003e\n",
              "    .dataframe tbody tr th:only-of-type {\n",
              "        vertical-align: middle;\n",
              "    }\n",
              "\n",
              "    .dataframe tbody tr th {\n",
              "        vertical-align: top;\n",
              "    }\n",
              "\n",
              "    .dataframe thead th {\n",
              "        text-align: right;\n",
              "    }\n",
              "\u003c/style\u003e\n",
              "\u003ctable border=\"1\" class=\"dataframe\"\u003e\n",
              "  \u003cthead\u003e\n",
              "    \u003ctr style=\"text-align: right;\"\u003e\n",
              "      \u003cth\u003e\u003c/th\u003e\n",
              "      \u003cth\u003eid\u003c/th\u003e\n",
              "      \u003cth\u003etimestamp\u003c/th\u003e\n",
              "      \u003cth\u003eparam1\u003c/th\u003e\n",
              "      \u003cth\u003eparam2\u003c/th\u003e\n",
              "      \u003cth\u003eresult1\u003c/th\u003e\n",
              "      \u003cth\u003eresult2\u003c/th\u003e\n",
              "      \u003cth\u003eparam3\u003c/th\u003e\n",
              "    \u003c/tr\u003e\n",
              "  \u003c/thead\u003e\n",
              "  \u003ctbody\u003e\n",
              "    \u003ctr\u003e\n",
              "      \u003cth\u003e0\u003c/th\u003e\n",
              "      \u003ctd\u003e1\u003c/td\u003e\n",
              "      \u003ctd\u003e2025-05-16 14:07:34\u003c/td\u003e\n",
              "      \u003ctd\u003e1\u003c/td\u003e\n",
              "      \u003ctd\u003ehello\u003c/td\u003e\n",
              "      \u003ctd\u003e1\u003c/td\u003e\n",
              "      \u003ctd\u003e[1, 2, 3]\u003c/td\u003e\n",
              "      \u003ctd\u003eNaN\u003c/td\u003e\n",
              "    \u003c/tr\u003e\n",
              "    \u003ctr\u003e\n",
              "      \u003cth\u003e1\u003c/th\u003e\n",
              "      \u003ctd\u003e2\u003c/td\u003e\n",
              "      \u003ctd\u003e2025-05-16 14:07:34\u003c/td\u003e\n",
              "      \u003ctd\u003e3\u003c/td\u003e\n",
              "      \u003ctd\u003ehello\u003c/td\u003e\n",
              "      \u003ctd\u003e5\u003c/td\u003e\n",
              "      \u003ctd\u003eNaN\u003c/td\u003e\n",
              "      \u003ctd\u003eNaN\u003c/td\u003e\n",
              "    \u003c/tr\u003e\n",
              "    \u003ctr\u003e\n",
              "      \u003cth\u003e2\u003c/th\u003e\n",
              "      \u003ctd\u003e3\u003c/td\u003e\n",
              "      \u003ctd\u003e2025-05-16 14:07:34\u003c/td\u003e\n",
              "      \u003ctd\u003e2\u003c/td\u003e\n",
              "      \u003ctd\u003eworld\u003c/td\u003e\n",
              "      \u003ctd\u003e8\u003c/td\u003e\n",
              "      \u003ctd\u003eNaN\u003c/td\u003e\n",
              "      \u003ctd\u003e3.1415\u003c/td\u003e\n",
              "    \u003c/tr\u003e\n",
              "  \u003c/tbody\u003e\n",
              "\u003c/table\u003e\n",
              "\u003c/div\u003e"
            ],
            "text/plain": [
              "   id            timestamp  param1 param2  result1    result2  param3\n",
              "0   1  2025-05-16 14:07:34       1  hello        1  [1, 2, 3]     NaN\n",
              "1   2  2025-05-16 14:07:34       3  hello        5        NaN     NaN\n",
              "2   3  2025-05-16 14:07:34       2  world        8        NaN  3.1415"
            ]
          },
          "execution_count": 16,
          "metadata": {},
          "output_type": "execute_result"
        }
      ],
      "source": [
        "# Add more experiments\n",
        "logbook.add(key={\"param1\": 3, \"param2\": \"hello\"}, result={\"result1\": 5})\n",
        "# Create the experiment\n",
        "logbook.add(\n",
        "    key={\"param1\": 2, \"param2\": \"world\", \"param3\": 3.1415},\n",
        "    result={\"result1\": 8},\n",
        ")\n",
        "\n",
        "# List all the experiments again.\n",
        "logbook.to_dataframe()"
      ]
    },
    {
      "cell_type": "markdown",
      "metadata": {},
      "source": [
        "**Note:** Different experiments can have different key and result items (for example `param3` only exist in the last experiment).\n",
        "\n",
        "Let's only grab the experiments with `param2=\"hello\"`."
      ]
    },
    {
      "cell_type": "code",
      "execution_count": 17,
      "metadata": {},
      "outputs": [
        {
          "data": {
            "text/html": [
              "\u003cdiv\u003e\n",
              "\u003cstyle scoped\u003e\n",
              "    .dataframe tbody tr th:only-of-type {\n",
              "        vertical-align: middle;\n",
              "    }\n",
              "\n",
              "    .dataframe tbody tr th {\n",
              "        vertical-align: top;\n",
              "    }\n",
              "\n",
              "    .dataframe thead th {\n",
              "        text-align: right;\n",
              "    }\n",
              "\u003c/style\u003e\n",
              "\u003ctable border=\"1\" class=\"dataframe\"\u003e\n",
              "  \u003cthead\u003e\n",
              "    \u003ctr style=\"text-align: right;\"\u003e\n",
              "      \u003cth\u003e\u003c/th\u003e\n",
              "      \u003cth\u003eid\u003c/th\u003e\n",
              "      \u003cth\u003etimestamp\u003c/th\u003e\n",
              "      \u003cth\u003eparam1\u003c/th\u003e\n",
              "      \u003cth\u003eparam2\u003c/th\u003e\n",
              "      \u003cth\u003eresult1\u003c/th\u003e\n",
              "      \u003cth\u003eresult2\u003c/th\u003e\n",
              "    \u003c/tr\u003e\n",
              "  \u003c/thead\u003e\n",
              "  \u003ctbody\u003e\n",
              "    \u003ctr\u003e\n",
              "      \u003cth\u003e0\u003c/th\u003e\n",
              "      \u003ctd\u003e1\u003c/td\u003e\n",
              "      \u003ctd\u003e2025-05-16 14:07:34\u003c/td\u003e\n",
              "      \u003ctd\u003e1\u003c/td\u003e\n",
              "      \u003ctd\u003ehello\u003c/td\u003e\n",
              "      \u003ctd\u003e1\u003c/td\u003e\n",
              "      \u003ctd\u003e[1, 2, 3]\u003c/td\u003e\n",
              "    \u003c/tr\u003e\n",
              "    \u003ctr\u003e\n",
              "      \u003cth\u003e1\u003c/th\u003e\n",
              "      \u003ctd\u003e2\u003c/td\u003e\n",
              "      \u003ctd\u003e2025-05-16 14:07:34\u003c/td\u003e\n",
              "      \u003ctd\u003e3\u003c/td\u003e\n",
              "      \u003ctd\u003ehello\u003c/td\u003e\n",
              "      \u003ctd\u003e5\u003c/td\u003e\n",
              "      \u003ctd\u003eNaN\u003c/td\u003e\n",
              "    \u003c/tr\u003e\n",
              "  \u003c/tbody\u003e\n",
              "\u003c/table\u003e\n",
              "\u003c/div\u003e"
            ],
            "text/plain": [
              "   id            timestamp  param1 param2  result1    result2\n",
              "0   1  2025-05-16 14:07:34       1  hello        1  [1, 2, 3]\n",
              "1   2  2025-05-16 14:07:34       3  hello        5        NaN"
            ]
          },
          "execution_count": 17,
          "metadata": {},
          "output_type": "execute_result"
        }
      ],
      "source": [
        "logbook.to_dataframe({\"param2\": \"hello\"})"
      ]
    },
    {
      "cell_type": "markdown",
      "metadata": {},
      "source": [
        "Now, let's plot `result1` according to `param1`."
      ]
    },
    {
      "cell_type": "code",
      "execution_count": 18,
      "metadata": {},
      "outputs": [
        {
          "data": {
            "text/plain": [
              "\u003cAxes: xlabel='param1'\u003e"
            ]
          },
          "execution_count": 18,
          "metadata": {},
          "output_type": "execute_result"
        },
        {
          "data": {
            "image/png": "[encoded data removed]",
            "text/plain": [
              "\u003cFigure size 640x480 with 1 Axes\u003e"
            ]
          },
          "metadata": {},
          "output_type": "display_data"
        }
      ],
      "source": [
        "logbook.to_dataframe().plot(x=\"param1\", y=\"result1\")"
      ]
    },
    {
      "cell_type": "markdown",
      "metadata": {},
      "source": [
        "## Real experiment\n",
        "\n",
        "In this section, we use the log book to a real experiment. Here, we study the impact of reducing the number of training examples on the quality of our model. We also want to understand how this is impacted by different learner parameters. For instance, maybe some parameters make the model more resistant to reducing the number of training examples.\n",
        "\n",
        "**Note:** This kind of analysis is useful in practice. It helps understand if having **more** training examples would help.\n",
        "\n",
        "Let's create out log book:"
      ]
    },
    {
      "cell_type": "code",
      "execution_count": 19,
      "metadata": {},
      "outputs": [
        {
          "name": "stdout",
          "output_type": "stream",
          "text": [
            "Found 0 experiments\n"
          ]
        }
      ],
      "source": [
        "logbook = ydf.util.LogBook(directory=\"my_logbook_2\")"
      ]
    },
    {
      "cell_type": "markdown",
      "metadata": {},
      "source": [
        "Let's load the \"Abalone\" dataset. The objective is to predict the `Rings` column using all the other columns as features."
      ]
    },
    {
      "cell_type": "code",
      "execution_count": 20,
      "metadata": {},
      "outputs": [
        {
          "name": "stdout",
          "output_type": "stream",
          "text": [
            "Number of examples: 4177\n"
          ]
        },
        {
          "data": {
            "text/html": [
              "\u003cdiv\u003e\n",
              "\u003cstyle scoped\u003e\n",
              "    .dataframe tbody tr th:only-of-type {\n",
              "        vertical-align: middle;\n",
              "    }\n",
              "\n",
              "    .dataframe tbody tr th {\n",
              "        vertical-align: top;\n",
              "    }\n",
              "\n",
              "    .dataframe thead th {\n",
              "        text-align: right;\n",
              "    }\n",
              "\u003c/style\u003e\n",
              "\u003ctable border=\"1\" class=\"dataframe\"\u003e\n",
              "  \u003cthead\u003e\n",
              "    \u003ctr style=\"text-align: right;\"\u003e\n",
              "      \u003cth\u003e\u003c/th\u003e\n",
              "      \u003cth\u003eType\u003c/th\u003e\n",
              "      \u003cth\u003eLongestShell\u003c/th\u003e\n",
              "      \u003cth\u003eDiameter\u003c/th\u003e\n",
              "      \u003cth\u003eHeight\u003c/th\u003e\n",
              "      \u003cth\u003eWholeWeight\u003c/th\u003e\n",
              "      \u003cth\u003eShuckedWeight\u003c/th\u003e\n",
              "      \u003cth\u003eVisceraWeight\u003c/th\u003e\n",
              "      \u003cth\u003eShellWeight\u003c/th\u003e\n",
              "      \u003cth\u003eRings\u003c/th\u003e\n",
              "    \u003c/tr\u003e\n",
              "  \u003c/thead\u003e\n",
              "  \u003ctbody\u003e\n",
              "    \u003ctr\u003e\n",
              "      \u003cth\u003e0\u003c/th\u003e\n",
              "      \u003ctd\u003eM\u003c/td\u003e\n",
              "      \u003ctd\u003e0.455\u003c/td\u003e\n",
              "      \u003ctd\u003e0.365\u003c/td\u003e\n",
              "      \u003ctd\u003e0.095\u003c/td\u003e\n",
              "      \u003ctd\u003e0.5140\u003c/td\u003e\n",
              "      \u003ctd\u003e0.2245\u003c/td\u003e\n",
              "      \u003ctd\u003e0.1010\u003c/td\u003e\n",
              "      \u003ctd\u003e0.150\u003c/td\u003e\n",
              "      \u003ctd\u003e15\u003c/td\u003e\n",
              "    \u003c/tr\u003e\n",
              "    \u003ctr\u003e\n",
              "      \u003cth\u003e1\u003c/th\u003e\n",
              "      \u003ctd\u003eM\u003c/td\u003e\n",
              "      \u003ctd\u003e0.350\u003c/td\u003e\n",
              "      \u003ctd\u003e0.265\u003c/td\u003e\n",
              "      \u003ctd\u003e0.090\u003c/td\u003e\n",
              "      \u003ctd\u003e0.2255\u003c/td\u003e\n",
              "      \u003ctd\u003e0.0995\u003c/td\u003e\n",
              "      \u003ctd\u003e0.0485\u003c/td\u003e\n",
              "      \u003ctd\u003e0.070\u003c/td\u003e\n",
              "      \u003ctd\u003e7\u003c/td\u003e\n",
              "    \u003c/tr\u003e\n",
              "    \u003ctr\u003e\n",
              "      \u003cth\u003e2\u003c/th\u003e\n",
              "      \u003ctd\u003eF\u003c/td\u003e\n",
              "      \u003ctd\u003e0.530\u003c/td\u003e\n",
              "      \u003ctd\u003e0.420\u003c/td\u003e\n",
              "      \u003ctd\u003e0.135\u003c/td\u003e\n",
              "      \u003ctd\u003e0.6770\u003c/td\u003e\n",
              "      \u003ctd\u003e0.2565\u003c/td\u003e\n",
              "      \u003ctd\u003e0.1415\u003c/td\u003e\n",
              "      \u003ctd\u003e0.210\u003c/td\u003e\n",
              "      \u003ctd\u003e9\u003c/td\u003e\n",
              "    \u003c/tr\u003e\n",
              "    \u003ctr\u003e\n",
              "      \u003cth\u003e3\u003c/th\u003e\n",
              "      \u003ctd\u003eM\u003c/td\u003e\n",
              "      \u003ctd\u003e0.440\u003c/td\u003e\n",
              "      \u003ctd\u003e0.365\u003c/td\u003e\n",
              "      \u003ctd\u003e0.125\u003c/td\u003e\n",
              "      \u003ctd\u003e0.5160\u003c/td\u003e\n",
              "      \u003ctd\u003e0.2155\u003c/td\u003e\n",
              "      \u003ctd\u003e0.1140\u003c/td\u003e\n",
              "      \u003ctd\u003e0.155\u003c/td\u003e\n",
              "      \u003ctd\u003e10\u003c/td\u003e\n",
              "    \u003c/tr\u003e\n",
              "    \u003ctr\u003e\n",
              "      \u003cth\u003e4\u003c/th\u003e\n",
              "      \u003ctd\u003eI\u003c/td\u003e\n",
              "      \u003ctd\u003e0.330\u003c/td\u003e\n",
              "      \u003ctd\u003e0.255\u003c/td\u003e\n",
              "      \u003ctd\u003e0.080\u003c/td\u003e\n",
              "      \u003ctd\u003e0.2050\u003c/td\u003e\n",
              "      \u003ctd\u003e0.0895\u003c/td\u003e\n",
              "      \u003ctd\u003e0.0395\u003c/td\u003e\n",
              "      \u003ctd\u003e0.055\u003c/td\u003e\n",
              "      \u003ctd\u003e7\u003c/td\u003e\n",
              "    \u003c/tr\u003e\n",
              "  \u003c/tbody\u003e\n",
              "\u003c/table\u003e\n",
              "\u003c/div\u003e"
            ],
            "text/plain": [
              "  Type  LongestShell  Diameter  Height  WholeWeight  ShuckedWeight  \\\n",
              "0    M         0.455     0.365   0.095       0.5140         0.2245   \n",
              "1    M         0.350     0.265   0.090       0.2255         0.0995   \n",
              "2    F         0.530     0.420   0.135       0.6770         0.2565   \n",
              "3    M         0.440     0.365   0.125       0.5160         0.2155   \n",
              "4    I         0.330     0.255   0.080       0.2050         0.0895   \n",
              "\n",
              "   VisceraWeight  ShellWeight  Rings  \n",
              "0         0.1010        0.150     15  \n",
              "1         0.0485        0.070      7  \n",
              "2         0.1415        0.210      9  \n",
              "3         0.1140        0.155     10  \n",
              "4         0.0395        0.055      7  "
            ]
          },
          "execution_count": 20,
          "metadata": {},
          "output_type": "execute_result"
        }
      ],
      "source": [
        "dataset_path = \"https://raw.githubusercontent.com/google/yggdrasil-decision-forests/main/yggdrasil_decision_forests/test_data/dataset\"\n",
        "dataset = pd.read_csv(f\"{dataset_path}/abalone.csv\")\n",
        "\n",
        "print(\"Number of examples:\", len(dataset))\n",
        "\n",
        "dataset.head()"
      ]
    },
    {
      "cell_type": "code",
      "execution_count": 21,
      "metadata": {},
      "outputs": [],
      "source": [
        "from sklearn.model_selection import train_test_split\n",
        "\n",
        "train_ds, test_ds = train_test_split(dataset, test_size=0.2, random_state=42)"
      ]
    },
    {
      "cell_type": "markdown",
      "metadata": {},
      "source": [
        "Let's create an iterator that generate the parameters of our experiments. Using a python generator (i.e., using `yield`) makes it easy to manage complex experiments as you can \"compose\" them."
      ]
    },
    {
      "cell_type": "code",
      "execution_count": 22,
      "metadata": {},
      "outputs": [
        {
          "name": "stdout",
          "output_type": "stream",
          "text": [
            "We have 45 experiment(s)\n",
            "The first 5 experiments to run:\n",
            "{'dataset': {'num_examples_ratio': np.float64(0.05)}, 'learner': {'max_depth': 3, 'shrinkage': 0.05}}\n",
            "{'dataset': {'num_examples_ratio': np.float64(0.05)}, 'learner': {'max_depth': 3, 'shrinkage': 0.1}}\n",
            "{'dataset': {'num_examples_ratio': np.float64(0.05)}, 'learner': {'max_depth': 3, 'shrinkage': 0.15}}\n",
            "{'dataset': {'num_examples_ratio': np.float64(0.05)}, 'learner': {'max_depth': 4, 'shrinkage': 0.05}}\n",
            "{'dataset': {'num_examples_ratio': np.float64(0.05)}, 'learner': {'max_depth': 4, 'shrinkage': 0.1}}\n"
          ]
        }
      ],
      "source": [
        "def gen_experiment_parameters():\n",
        "  # How much of the dataset is used, between 0 and 1.\n",
        "  for num_examples_ratio in np.linspace(0.05, 1, num=5):\n",
        "    for max_depth in [3, 4, 5]:\n",
        "      for shrinkage in [0.05, 0.1, 0.15]:\n",
        "        # You can organize the paramers hierarchically. For example,\n",
        "        # the learner paramers and the dataset parameres are split\n",
        "        # in two sub-dictionary.\n",
        "        #\n",
        "        # Note: YDF hyper-parameres are list here:\n",
        "        # https://ydf.readthedocs.io/en/latest/hyperparameters/\n",
        "        yield {\n",
        "            \"dataset\": {\"num_examples_ratio\": num_examples_ratio},\n",
        "            \"learner\": {\"max_depth\": max_depth, \"shrinkage\": shrinkage},\n",
        "        }\n",
        "\n",
        "\n",
        "num_experiments = len(list(gen_experiment_parameters()))\n",
        "print(f\"We have {num_experiments} experiment(s)\")\n",
        "\n",
        "print(\"The first 5 experiments to run:\")\n",
        "for idx, key in enumerate(gen_experiment_parameters()):\n",
        "  if idx == 5:\n",
        "    break\n",
        "  print(key)"
      ]
    },
    {
      "cell_type": "markdown",
      "metadata": {},
      "source": [
        "We need a function to run the experiment."
      ]
    },
    {
      "cell_type": "code",
      "execution_count": 23,
      "metadata": {},
      "outputs": [
        {
          "data": {
            "text/plain": [
              "{'rmse': 2.4293587827508376}"
            ]
          },
          "execution_count": 23,
          "metadata": {},
          "output_type": "execute_result"
        }
      ],
      "source": [
        "def run_experiment(parameters):\n",
        "  reduced_train_dataset = train_ds.sample(\n",
        "      frac=parameters[\"dataset\"][\"num_examples_ratio\"]\n",
        "  )\n",
        "  model = ydf.GradientBoostedTreesLearner(\n",
        "      label=\"Rings\", task=ydf.Task.REGRESSION\n",
        "  ).train(reduced_train_dataset, verbose=0)\n",
        "  evaluation = model.evaluate(test_ds)\n",
        "  return {\"rmse\": evaluation.rmse}\n",
        "\n",
        "\n",
        "# Let's run it on a simple parameter:\n",
        "run_experiment({\n",
        "    \"dataset\": {\"num_examples_ratio\": 0.05},\n",
        "    \"learner\": {\"max_depth\": 3, \"shrinkage\": 0.05},\n",
        "})"
      ]
    },
    {
      "cell_type": "markdown",
      "metadata": {},
      "source": [
        "Let's join both methods together.\n",
        "\n",
        "**Note:** If your experiment takes a long time to run, or if you have many experiments to run, it make sense to run them in parallel on different computers. Remember, a log book can be used at the same time by multiple programs."
      ]
    },
    {
      "cell_type": "code",
      "execution_count": 24,
      "metadata": {},
      "outputs": [
        {
          "name": "stderr",
          "output_type": "stream",
          "text": [
            "100%|█████████████████████████████████████████████████████████████████████████████████████████████████████████████████████████████████████████████████████████████████████████████████████████████████████████████████████████| 45/45 [00:04\u003c00:00,  9.74it/s]\n"
          ]
        }
      ],
      "source": [
        "num_experiments = len(list(gen_experiment_parameters()))\n",
        "for experiment_key in tqdm(gen_experiment_parameters(), total=num_experiments):\n",
        "\n",
        "  if logbook.exist(experiment_key):\n",
        "    # We skip experiments that have already be run.\n",
        "    # This is great to augment or add new paramers later.\n",
        "    continue\n",
        "\n",
        "  experiment_result = run_experiment(experiment_key)\n",
        "  logbook.add(experiment_key, experiment_result)"
      ]
    },
    {
      "cell_type": "markdown",
      "metadata": {},
      "source": [
        "After a little while, we can look the experiment results."
      ]
    },
    {
      "cell_type": "code",
      "execution_count": 25,
      "metadata": {},
      "outputs": [
        {
          "data": {
            "text/html": [
              "\u003cdiv\u003e\n",
              "\u003cstyle scoped\u003e\n",
              "    .dataframe tbody tr th:only-of-type {\n",
              "        vertical-align: middle;\n",
              "    }\n",
              "\n",
              "    .dataframe tbody tr th {\n",
              "        vertical-align: top;\n",
              "    }\n",
              "\n",
              "    .dataframe thead th {\n",
              "        text-align: right;\n",
              "    }\n",
              "\u003c/style\u003e\n",
              "\u003ctable border=\"1\" class=\"dataframe\"\u003e\n",
              "  \u003cthead\u003e\n",
              "    \u003ctr style=\"text-align: right;\"\u003e\n",
              "      \u003cth\u003e\u003c/th\u003e\n",
              "      \u003cth\u003eid\u003c/th\u003e\n",
              "      \u003cth\u003etimestamp\u003c/th\u003e\n",
              "      \u003cth\u003edataset\u003c/th\u003e\n",
              "      \u003cth\u003elearner\u003c/th\u003e\n",
              "      \u003cth\u003ermse\u003c/th\u003e\n",
              "    \u003c/tr\u003e\n",
              "  \u003c/thead\u003e\n",
              "  \u003ctbody\u003e\n",
              "    \u003ctr\u003e\n",
              "      \u003cth\u003e0\u003c/th\u003e\n",
              "      \u003ctd\u003e1\u003c/td\u003e\n",
              "      \u003ctd\u003e2025-05-16 14:07:36\u003c/td\u003e\n",
              "      \u003ctd\u003e{'num_examples_ratio': 0.05}\u003c/td\u003e\n",
              "      \u003ctd\u003e{'max_depth': 3, 'shrinkage': 0.05}\u003c/td\u003e\n",
              "      \u003ctd\u003e2.493999\u003c/td\u003e\n",
              "    \u003c/tr\u003e\n",
              "    \u003ctr\u003e\n",
              "      \u003cth\u003e1\u003c/th\u003e\n",
              "      \u003ctd\u003e2\u003c/td\u003e\n",
              "      \u003ctd\u003e2025-05-16 14:07:36\u003c/td\u003e\n",
              "      \u003ctd\u003e{'num_examples_ratio': 0.05}\u003c/td\u003e\n",
              "      \u003ctd\u003e{'max_depth': 3, 'shrinkage': 0.1}\u003c/td\u003e\n",
              "      \u003ctd\u003e2.607531\u003c/td\u003e\n",
              "    \u003c/tr\u003e\n",
              "    \u003ctr\u003e\n",
              "      \u003cth\u003e2\u003c/th\u003e\n",
              "      \u003ctd\u003e3\u003c/td\u003e\n",
              "      \u003ctd\u003e2025-05-16 14:07:36\u003c/td\u003e\n",
              "      \u003ctd\u003e{'num_examples_ratio': 0.05}\u003c/td\u003e\n",
              "      \u003ctd\u003e{'max_depth': 3, 'shrinkage': 0.15}\u003c/td\u003e\n",
              "      \u003ctd\u003e2.615266\u003c/td\u003e\n",
              "    \u003c/tr\u003e\n",
              "    \u003ctr\u003e\n",
              "      \u003cth\u003e3\u003c/th\u003e\n",
              "      \u003ctd\u003e4\u003c/td\u003e\n",
              "      \u003ctd\u003e2025-05-16 14:07:36\u003c/td\u003e\n",
              "      \u003ctd\u003e{'num_examples_ratio': 0.05}\u003c/td\u003e\n",
              "      \u003ctd\u003e{'max_depth': 4, 'shrinkage': 0.05}\u003c/td\u003e\n",
              "      \u003ctd\u003e2.501007\u003c/td\u003e\n",
              "    \u003c/tr\u003e\n",
              "    \u003ctr\u003e\n",
              "      \u003cth\u003e4\u003c/th\u003e\n",
              "      \u003ctd\u003e5\u003c/td\u003e\n",
              "      \u003ctd\u003e2025-05-16 14:07:36\u003c/td\u003e\n",
              "      \u003ctd\u003e{'num_examples_ratio': 0.05}\u003c/td\u003e\n",
              "      \u003ctd\u003e{'max_depth': 4, 'shrinkage': 0.1}\u003c/td\u003e\n",
              "      \u003ctd\u003e2.641298\u003c/td\u003e\n",
              "    \u003c/tr\u003e\n",
              "  \u003c/tbody\u003e\n",
              "\u003c/table\u003e\n",
              "\u003c/div\u003e"
            ],
            "text/plain": [
              "   id            timestamp                       dataset  \\\n",
              "0   1  2025-05-16 14:07:36  {'num_examples_ratio': 0.05}   \n",
              "1   2  2025-05-16 14:07:36  {'num_examples_ratio': 0.05}   \n",
              "2   3  2025-05-16 14:07:36  {'num_examples_ratio': 0.05}   \n",
              "3   4  2025-05-16 14:07:36  {'num_examples_ratio': 0.05}   \n",
              "4   5  2025-05-16 14:07:36  {'num_examples_ratio': 0.05}   \n",
              "\n",
              "                               learner      rmse  \n",
              "0  {'max_depth': 3, 'shrinkage': 0.05}  2.493999  \n",
              "1   {'max_depth': 3, 'shrinkage': 0.1}  2.607531  \n",
              "2  {'max_depth': 3, 'shrinkage': 0.15}  2.615266  \n",
              "3  {'max_depth': 4, 'shrinkage': 0.05}  2.501007  \n",
              "4   {'max_depth': 4, 'shrinkage': 0.1}  2.641298  "
            ]
          },
          "execution_count": 25,
          "metadata": {},
          "output_type": "execute_result"
        }
      ],
      "source": [
        "logbook.to_dataframe().head()"
      ]
    },
    {
      "cell_type": "markdown",
      "metadata": {},
      "source": [
        "Let's plot the model quality (we want the RMSE to be as small as possible) vs our parameters."
      ]
    },
    {
      "cell_type": "code",
      "execution_count": 26,
      "metadata": {},
      "outputs": [
        {
          "data": {
            "text/plain": [
              "Text(0, 0.5, 'rmse')"
            ]
          },
          "execution_count": 26,
          "metadata": {},
          "output_type": "execute_result"
        },
        {
          "data": {
            "image/png": "[encoded data removed]",
            "text/plain": [
              "\u003cFigure size 640x480 with 2 Axes\u003e"
            ]
          },
          "metadata": {},
          "output_type": "display_data"
        }
      ],
      "source": [
        "results = logbook.to_dataframe()\n",
        "\n",
        "_rmse = results[\"rmse\"]\n",
        "_num_examples_ratio = results[\"dataset\"].map(lambda x: x[\"num_examples_ratio\"])\n",
        "_max_depth = results[\"learner\"].map(lambda x: x[\"max_depth\"])\n",
        "_shrinkage = results[\"learner\"].map(lambda x: x[\"shrinkage\"])\n",
        "\n",
        "plot = plt.scatter(\n",
        "    _num_examples_ratio, _rmse, c=_max_depth, s=_shrinkage * 200, cmap=\"viridis\"\n",
        ")\n",
        "plt.colorbar(plot).set_label(\"max_depth\")\n",
        "plt.xlabel(\"num_examples_ratio\")\n",
        "plt.ylabel(\"rmse\")"
      ]
    },
    {
      "cell_type": "markdown",
      "metadata": {},
      "source": [
        "In this analysis, we can see how much our model RMSE worsened. It also seems that having a high max_depth parameter gives both good and bad results. This can mean that increasing max_depth makes the training more noisy. This is expected, since a deep trees are more prone to overfitting on the training data.\n",
        "\n",
        "This is just a starting point. A natural continuation would be to see if other parameters could help. Also, our evaluation might also be noisy. Maybe we should run each experiment multiple times (with different dataset splits) to quantify the variability."
      ]
    }
  ],
  "metadata": {
    "kernelspec": {
      "display_name": "Python 3 (ipykernel)",
      "language": "python",
      "name": "python3"
    },
    "language_info": {
      "codemirror_mode": {
        "name": "ipython",
        "version": 3
      },
      "file_extension": ".py",
      "mimetype": "text/x-python",
      "name": "python",
      "nbconvert_exporter": "python",
      "pygments_lexer": "ipython3",
      "version": "3.12.9"
    }
  },
  "nbformat": 4,
  "nbformat_minor": 4
}
